{
 "cells": [
  {
   "cell_type": "markdown",
   "metadata": {},
   "source": [
    "# Тема задачи: Аналитика EdTech‑продукта — воронка и A/B‑эксперимент\n",
    "\n",
    "**Цель:** Проанализировать путь пользователя от регистрации до первой оплаты, оценить узкие места воронки и сравнить конверсию в оплату между группами A и B.\n",
    "\n",
    "**Ключевые вопросы:**\n",
    "1. Какова конверсия по этапам: `registration → start_lesson → payment`?\n",
    "2. Где основные потери и почему?\n",
    "3. Отличается ли доля оплат между группами A и B? Есть ли статистически значимая разница?\n",
    "4. Какие гипотезы и продуктовые изменения стоит проверить в следующем цикле?\n"
   ]
  },
  {
   "cell_type": "markdown",
   "metadata": {},
   "source": [
    "# Данные и допущения\n",
    "\n",
    "**Наборы данных:**  \n",
    "- `users.csv` — пользователи (user_id, registration_date, traffic_source, device).  \n",
    "- `events.csv` — события продукта: *registration*, *login*, *start_lesson*, *payment* (user_id, event_time).  \n",
    "- `lessons.csv` — прохождения уроков (user_id, lesson_id, lesson_time, ...).  \n",
    "- `payments.csv` — оплаты (user_id, amount, payment_time, ...).  \n",
    "- `ab_groups.csv` — разметка A/B (user_id, group).  \n",
    "\n",
    "**Определения и метрики:**  \n",
    "- **Регистрация** — событие `registration` в `events` (дополнительно валидируем по `users`).  \n",
    "- **Старт урока** — событие `start_lesson` в `events`.  \n",
    "- **Оплата** — наличие строки в `payments` (уникальные пользователи считаются плательщиками).  \n",
    "- **Pay rate** — доля пользователей с оплатой среди зарегистрировавшихся.  \n",
    "- **A/B** — сравнение метрик между группами `A` и `B` из `ab_groups` с предварительной проверкой **SRM** (chi-square).\n",
    "- Для сравнения долей (например, pay rate) используем тест пропорций или chi-square (для простоты в демонстрации).\n",
    "\n",
    "**Период данных:** будет определён автоматически в секции загрузки/подготовки данных (по мин/макс датам в CSV).\n",
    "\n",
    "**Окружение:** `pandas`, `numpy`, `scipy`, при необходимости `matplotlib/plotly` для графиков.\n"
   ]
  },
  {
   "cell_type": "markdown",
   "metadata": {},
   "source": [
    "# Тема задачи\n",
    "\n",
    "**Аналитика EdTech‑продукта:**  \n",
    "Необходимо проанализировать путь пользователя от регистрации до оплаты,  \n",
    "построить воронку конверсии и проверить результаты A/B‑теста на основе предоставленных данных.\n",
    "\n",
    "**Цель:**  \n",
    "Выявить слабые места воронки (где больше всего теряется пользователей) и оценить,  \n",
    "есть ли статистически значимые отличия в оплатах между группами A и B.\n"
   ]
  },
  {
   "cell_type": "code",
   "execution_count": null,
   "metadata": {},
   "outputs": [],
   "source": [
    "import pandas as pd\n",
    "import seaborn as sns\n",
    "import matplotlib.pyplot as plt\n",
    "from scipy import stats"
   ]
  },
  {
   "cell_type": "code",
   "execution_count": null,
   "metadata": {},
   "outputs": [],
   "source": [
    "users = pd.read_csv('users.csv')\n",
    "events = pd.read_csv('events.csv')"
   ]
  },
  {
   "cell_type": "code",
   "execution_count": null,
   "metadata": {},
   "outputs": [],
   "source": [
    "events.head()"
   ]
  },
  {
   "cell_type": "code",
   "execution_count": null,
   "metadata": {},
   "outputs": [],
   "source": [
    "users.head()"
   ]
  },
  {
   "cell_type": "code",
   "execution_count": null,
   "metadata": {},
   "outputs": [],
   "source": [
    "'''\n",
    "Задание:\n",
    "Построй таблицу, где для каждой когорты (дата регистрации) указано, сколько пользователей вернулись через 0, 1, 2, ..., 30 дней после регистрации.\n",
    "\n",
    "SELECT\n",
    "  u.registration_date AS cohort,\n",
    "  e.event_date,\n",
    "  (e.event_date - u.registration_date) AS day_diff,\n",
    "  COUNT(DISTINCT u.user_id) AS retained_users\n",
    "FROM users u\n",
    "JOIN events e ON u.user_id = e.user_id\n",
    "WHERE e.event_type = 'login'\n",
    "  AND e.event_date >= u.registration_date\n",
    "  AND e.event_date <= u.registration_date + INTERVAL '30 day'\n",
    "GROUP BY cohort, day_diff\n",
    "ORDER BY cohort, day_diff;\n",
    "'''"
   ]
  },
  {
   "cell_type": "code",
   "execution_count": null,
   "metadata": {},
   "outputs": [],
   "source": [
    "# Retention\n",
    "df = events.merge(users, on='user_id')\n",
    "\n",
    "# Приводим даты к datetime\n",
    "df['event_date'] = pd.to_datetime(df['event_date'])\n",
    "df['registration_date'] = pd.to_datetime(df['registration_date'])\n",
    "\n",
    "df1 = df.copy()\n",
    "# Считаем разницу\n",
    "df1['day_diff'] = (df1['event_date'] - df1['registration_date']).dt.days\n",
    "\n",
    "# Фильтруем Retention 0–30 дней по логинам\n",
    "df1 = df1[(df1['event_type'] == 'login') & (df1['day_diff'] >= 0) & (df1['day_diff'] <= 30)]\n",
    "\n",
    "# Строим pivot\n",
    "df_pivot = df1.pivot_table(\n",
    "    values='user_id',\n",
    "    index='registration_date',\n",
    "    columns='day_diff',\n",
    "    aggfunc='nunique',\n",
    "    fill_value=0\n",
    ")\n",
    "\n",
    "df_pivot"
   ]
  },
  {
   "cell_type": "code",
   "execution_count": null,
   "metadata": {},
   "outputs": [],
   "source": [
    "# Воронка\n",
    "# 1. Получим только тех, кто зарегистрировался\n",
    "registered_users = df[df['event_type'] == 'registration']['user_id'].unique()\n",
    "\n",
    "# 2. Оставим только события этих пользователей\n",
    "df_filtered = df[df['user_id'].isin(registered_users)]\n",
    "\n",
    "steps = ['registration', 'login', 'start_lesson', 'payment']\n",
    "\n",
    "funnel = (\n",
    "    df_filtered[df_filtered['event_type'].isin(steps)]\n",
    "    .groupby(['event_type'])['user_id']\n",
    "    .nunique()\n",
    "    .reindex(steps)\n",
    "    .reset_index()\n",
    "    .rename(columns={'user_id': 'users'})\n",
    ")\n",
    "# 4. Добавим конверсию\n",
    "funnel['conversion_%'] = round(funnel['users'] / funnel['users'].iloc[0] * 100, 1)\n",
    "funnel"
   ]
  },
  {
   "cell_type": "code",
   "execution_count": null,
   "metadata": {},
   "outputs": [],
   "source": [
    "# a/b test\n",
    "\n",
    "ab_group = pd.read_csv('ab_groups.csv')\n",
    "df_ab = df.merge(ab_group,on='user_id',how='inner')\n",
    "df_ab['is_payer'] = (df_ab['event_type'] == 'payment').astype(int)\n",
    "df_user_level = df_ab.groupby(['user_id','group'])['is_payer'].max().reset_index()\n",
    "df_cr = df_user_level.groupby('group')['is_payer'].mean().round(3).reset_index()\n",
    "group_a = df_user_level[df_user_level['group'] == 'A']['is_payer']\n",
    "group_b = df_user_level[df_user_level['group'] == 'B']['is_payer']\n",
    "t_stat,p_value = stats.ttest_ind(group_a,group_b,equal_var=False)\n",
    "print('Conversion rate: \\n', df_cr)\n",
    "print()\n",
    "print('t-статистика:', round(t_stat, 3))\n",
    "print('p-значение:', round(p_value, 4))"
   ]
  },
  {
   "cell_type": "code",
   "execution_count": null,
   "metadata": {},
   "outputs": [],
   "source": [
    "from statsmodels.stats.power import NormalIndPower\n",
    "import numpy as np\n",
    "\n",
    "baseline = 0.273\n",
    "n_per_group = 2500\n",
    "alpha = 0.05\n",
    "power = 0.8\n",
    "\n",
    "power_analysis = NormalIndPower()\n",
    "effect_size = power_analysis.solve_power(\n",
    "    effect_size=None, \n",
    "    nobs1=n_per_group,\n",
    "    alpha=alpha,\n",
    "    power=power,\n",
    "    ratio=1.0,\n",
    "    alternative='two-sided'\n",
    ")\n",
    "\n",
    "def cohen_h_inverse(h, p1):\n",
    "    return (np.sin(np.arcsin(np.sqrt(p1)) + h / 2))**2\n",
    "\n",
    "p2 = cohen_h_inverse(effect_size, baseline)\n",
    "mde = round((p2 - baseline) * 100, 2)\n",
    "\n",
    "print(f\" Минимально значимая разница (MDE): {mde} п.п.\")\n",
    "print(f\" Целевая конверсия: {round(p2 * 100, 2)}%\")"
   ]
  },
  {
   "cell_type": "markdown",
   "metadata": {},
   "source": [
    "# Анализ воронки регистрации и причины низкой оплаты\n",
    "\n",
    "## Проблема\n",
    "На этапе оплаты остаётся лишь каждый 4‑й пользователь, начавший урок.\n",
    "\n",
    "## Возможные причины\n",
    "Низкая воспринимаемая ценность:\n",
    "\n",
    "Пользователь не увидел, зачем платить после первого урока.\n",
    "\n",
    "Возможно, уроки дают мало результата или неполно показывают продукт.\n",
    "\n",
    "Сложность в оплате:\n",
    "\n",
    "Долгий путь до кнопки “Оплатить”\n",
    "\n",
    "Нет популярных способов оплаты (например, Kaspi, рассрочка, PayPal и др.)\n",
    "\n",
    "Нет системы возвращения пользователя:\n",
    "\n",
    "После начала урока пользователь отвлёкся и не вернулся\n",
    "\n",
    "Не настроены напоминания, нет прогрева через рассылки\n",
    "\n",
    "## Гипотезы для проверки\n",
    "Гипотеза\n",
    "1. Добавим CTA и преимущества после урока\n",
    "2. Упростим путь до оплаты\n",
    "3. Включим пуши/email тем, кто начал, но не оплатил\n",
    "\n",
    "Как проверим\n",
    "1. A/B‑тест: экран с аргументами vs без\n",
    "2. A/B‑тест с быстрым переходом на оплату\n",
    "3. Сравнение CR между пользователями с и без пушей\n",
    "\n",
    "## Цель эксперимента:\n",
    "Проверить гипотезу о росте конверсии оплаты с 27.3% до минимум 30.9% (+3.6 п.п.), \n",
    "что соответствует MDE при текущем трафике (5000 пользователей).\n",
    "Желаемый ориентир на рынке — 35%, к которому мы стремимся в перспективе."
   ]
  },
  {
   "cell_type": "code",
   "execution_count": null,
   "metadata": {},
   "outputs": [],
   "source": [
    "plt.figure(figsize=(10,6))\n",
    "bars = plt.bar(funnel['event_type'], funnel['users'], color='skyblue')\n",
    "\n",
    "for bar, conv in zip(bars, funnel['conversion_%']):\n",
    "    yval = bar.get_height()\n",
    "    plt.text(bar.get_x() + bar.get_width()/2, yval + 20, f'{int(yval)}\\n({conv}%)', \n",
    "             ha='center', va='bottom', fontsize=10, fontweight='bold')\n",
    "\n",
    "plt.title('Воронка пользовательского пути', fontsize=14)\n",
    "plt.xlabel('Этапы', fontsize=12)\n",
    "plt.ylabel('Количество пользователей', fontsize=12)\n",
    "plt.grid(axis='y', linestyle='--', alpha=0.7)\n",
    "plt.ylim(0, funnel['users'].max()*1.2)\n",
    "plt.tight_layout()\n",
    "plt.show()"
   ]
  }
 ],
 "metadata": {
  "kernelspec": {
   "display_name": "Python 3 (ipykernel)",
   "language": "python",
   "name": "python3"
  },
  "language_info": {
   "codemirror_mode": {
    "name": "ipython",
    "version": 3
   },
   "file_extension": ".py",
   "mimetype": "text/x-python",
   "name": "python",
   "nbconvert_exporter": "python",
   "pygments_lexer": "ipython3",
   "version": "3.11.6"
  }
 },
 "nbformat": 4,
 "nbformat_minor": 4
}
